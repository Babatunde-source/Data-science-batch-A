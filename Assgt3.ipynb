{
  "nbformat": 4,
  "nbformat_minor": 0,
  "metadata": {
    "colab": {
      "name": "Assgt3.ipynb",
      "provenance": [],
      "authorship_tag": "ABX9TyNcWTQtPEG79jVxgOr4phl/",
      "include_colab_link": true
    },
    "kernelspec": {
      "name": "python3",
      "display_name": "Python 3"
    },
    "language_info": {
      "name": "python"
    }
  },
  "cells": [
    {
      "cell_type": "markdown",
      "metadata": {
        "id": "view-in-github",
        "colab_type": "text"
      },
      "source": [
        "<a href=\"https://colab.research.google.com/github/Babatunde-source/Data-science-batch-A/blob/main/Assgt3.ipynb\" target=\"_parent\"><img src=\"https://colab.research.google.com/assets/colab-badge.svg\" alt=\"Open In Colab\"/></a>"
      ]
    },
    {
      "cell_type": "code",
      "metadata": {
        "colab": {
          "base_uri": "https://localhost:8080/"
        },
        "id": "icaHzoJr2QNr",
        "outputId": "165118b5-25f1-461e-dec5-5109c1eee1f6"
      },
      "source": [
        "#creat 1D array\n",
        "import numpy as np\n",
        "my_array_1d= np.array([1, 2, 3, 4, 5, 6, 7])\n",
        "print (my_array_1d)\n",
        "\n"
      ],
      "execution_count": null,
      "outputs": [
        {
          "output_type": "stream",
          "text": [
            "[1 2 3 4 5 6 7]\n"
          ],
          "name": "stdout"
        }
      ]
    },
    {
      "cell_type": "code",
      "metadata": {
        "colab": {
          "base_uri": "https://localhost:8080/"
        },
        "id": "63Jq5EM43i7Y",
        "outputId": "250d6256-efc2-4d9d-f199-1ca16e1c46b4"
      },
      "source": [
        "#1D array:we need only one index to access element ata any position\n",
        "#call the value at index 5\n",
        "print('element at index 5:' , my_array_1d[5])\n",
        "\n",
        "#ndarray are mutable(changeable), here we can change an element at index 5\n",
        "my_array_1d[5]= 15\n",
        "print('element at index 5 after change:', my_array_1d[5])\n",
        "\n"
      ],
      "execution_count": null,
      "outputs": [
        {
          "output_type": "stream",
          "text": [
            "element at index 5: 6\n",
            "element at index 5 after change: 15\n"
          ],
          "name": "stdout"
        }
      ]
    },
    {
      "cell_type": "code",
      "metadata": {
        "colab": {
          "base_uri": "https://localhost:8080/"
        },
        "id": "mfGiUMfP5ffY",
        "outputId": "adce009a-bb82-4b48-973b-c7e2ffb23fd6"
      },
      "source": [
        "print (my_array_1d)\n",
        "\n"
      ],
      "execution_count": null,
      "outputs": [
        {
          "output_type": "stream",
          "text": [
            "[ 1  2  3  4  5 15  7]\n"
          ],
          "name": "stdout"
        }
      ]
    },
    {
      "cell_type": "code",
      "metadata": {
        "colab": {
          "base_uri": "https://localhost:8080/"
        },
        "id": "crEe-5KJ5xiU",
        "outputId": "09b98fa1-8a98-4809-b734-2c52254cd2a1"
      },
      "source": [
        "#get the values in the range\n",
        "print('elements in the range:', my_array_1d[2:5]) #a:b - including a, until (and excluding) b\n",
        "\n",
        "#we can change values in the range as well\n",
        "my_array_1d[2:5] = 20\n",
        "print('elements in the range after change:', my_array_1d[2:5])\n",
        "\n"
      ],
      "execution_count": null,
      "outputs": [
        {
          "output_type": "stream",
          "text": [
            "elements in the range: [3 4 5]\n",
            "elements in the range after change: [20 20 20]\n"
          ],
          "name": "stdout"
        }
      ]
    },
    {
      "cell_type": "code",
      "metadata": {
        "colab": {
          "base_uri": "https://localhost:8080/"
        },
        "id": "zWHNx8aw72WU",
        "outputId": "102a6963-d7fd-43f9-d7ac-1f4e92eaaf64"
      },
      "source": [
        "#2D arrays(two indexing): first one for the row and second one for the column\n",
        "\n",
        "#creat 2D array\n",
        "my_2d_array= np.array([[1,2 ,3 ,4 ,5 ],[11, 12, 13, 14, 15],[21, 22, 23, 24, 25]])\n",
        "print('my original array:', my_2d_array,'\\n')\n",
        "\n",
        "#slicing: generates an array of the same rank\n",
        "my_array_copy= my_2d_array.copy()\n",
        "row_slice= my_array_copy[1:3, :] #a:b - including a, until (and excluding) b\n",
        "print('sliced array on [1:3,:]: \\n', row_slice)\n",
        "\n"
      ],
      "execution_count": 8,
      "outputs": [
        {
          "output_type": "stream",
          "text": [
            "my original array: [[ 1  2  3  4  5]\n",
            " [11 12 13 14 15]\n",
            " [21 22 23 24 25]] \n",
            "\n",
            "sliced array on [1:3,:]: \n",
            " [[11 12 13 14 15]\n",
            " [21 22 23 24 25]]\n"
          ],
          "name": "stdout"
        }
      ]
    },
    {
      "cell_type": "code",
      "metadata": {
        "colab": {
          "base_uri": "https://localhost:8080/"
        },
        "id": "Kmux3in-BCPg",
        "outputId": "2fddfa73-dc95-4eaa-9f26-589e1e5b6cd4"
      },
      "source": [
        "#if we change the sliced array it will change the original array too\n",
        "row_slice[1:4, :]= 12\n",
        "\n",
        "print('sliced array:\\n', row_slice, '\\n')\n",
        "print('original array:\\n', my_2d_array)\n",
        "\n"
      ],
      "execution_count": 9,
      "outputs": [
        {
          "output_type": "stream",
          "text": [
            "sliced array:\n",
            " [[11 12 13 14 15]\n",
            " [12 12 12 12 12]] \n",
            "\n",
            "original array:\n",
            " [[ 1  2  3  4  5]\n",
            " [11 12 13 14 15]\n",
            " [21 22 23 24 25]]\n"
          ],
          "name": "stdout"
        }
      ]
    },
    {
      "cell_type": "code",
      "metadata": {
        "colab": {
          "base_uri": "https://localhost:8080/"
        },
        "id": "j0CLdbTHCUB5",
        "outputId": "c92939b5-6ada-4c33-d8e9-76ebcae5def4"
      },
      "source": [
        "#we can do the slicing for column as well\n",
        "slice_col= my_2d_array[:, 1:5]\n",
        "print (slice_col)"
      ],
      "execution_count": 12,
      "outputs": [
        {
          "output_type": "stream",
          "text": [
            "[[ 2  3  4  5]\n",
            " [12 13 14 15]\n",
            " [22 23 24 25]]\n"
          ],
          "name": "stdout"
        }
      ]
    },
    {
      "cell_type": "code",
      "metadata": {
        "colab": {
          "base_uri": "https://localhost:8080/"
        },
        "id": "s2GLlkjLDGI0",
        "outputId": "0edf1d94-3be7-479f-e1a9-4ca39b5a8ad8"
      },
      "source": [
        "#filters to select just those elements which meets certain criteria\n",
        "#select the elements that are greater than 10\n",
        "slice_col[slice_col> 10]\n",
        "\n",
        "\n"
      ],
      "execution_count": 13,
      "outputs": [
        {
          "output_type": "execute_result",
          "data": {
            "text/plain": [
              "array([12, 13, 14, 15, 22, 23, 24, 25])"
            ]
          },
          "metadata": {
            "tags": []
          },
          "execution_count": 13
        }
      ]
    },
    {
      "cell_type": "code",
      "metadata": {
        "colab": {
          "base_uri": "https://localhost:8080/"
        },
        "id": "GxIJroYZEMMH",
        "outputId": "6c4aa308-7172-44c8-c166-f39e55b8f21f"
      },
      "source": [
        "#addition can be done in two ways:with the plus sign, wih the 'add' numpy function\n",
        "arr_a =np.array([[10, 20, 30],[40, 50, 60]])\n",
        "arr_b =np.array([[11, 21, 31],[41, 51, 61]])\n",
        "\n",
        "print(\"Array A\")\n",
        "print(arr_a, '\\n')\n",
        "\n",
        "print(\"Array B\")\n",
        "print(arr_a, '\\n')\n",
        "\n",
        "print(\"Direct Addition\")\n",
        "print(arr_a + arr_b, '\\n')\n",
        "\n",
        "print(\"Numpy A ddition\")\n",
        "print(np.add(arr_a , arr_b))\n",
        "\n"
      ],
      "execution_count": 14,
      "outputs": [
        {
          "output_type": "stream",
          "text": [
            "Array A\n",
            "[[10 20 30]\n",
            " [40 50 60]] \n",
            "\n",
            "Array B\n",
            "[[10 20 30]\n",
            " [40 50 60]] \n",
            "\n",
            "Direct Addition\n",
            "[[ 21  41  61]\n",
            " [ 81 101 121]] \n",
            "\n",
            "Numpy A ddition\n",
            "[[ 21  41  61]\n",
            " [ 81 101 121]]\n"
          ],
          "name": "stdout"
        }
      ]
    },
    {
      "cell_type": "code",
      "metadata": {
        "colab": {
          "base_uri": "https://localhost:8080/"
        },
        "id": "NpSxZM2eHf21",
        "outputId": "0e67d928-1dec-4bae-9eb8-73a2e8e3c740"
      },
      "source": [
        "#the same is with the subtraction\n",
        "print(\"Direct subtraction\")\n",
        "print(arr_b - arr_a, '\\n')\n",
        "\n",
        "print(\"Numpy subtraction\")\n",
        "print(np.subtract(arr_b,arr_a))\n",
        "\n",
        "\n",
        "\n"
      ],
      "execution_count": 16,
      "outputs": [
        {
          "output_type": "stream",
          "text": [
            "Direct subtraction\n",
            "[[1 1 1]\n",
            " [1 1 1]] \n",
            "\n",
            "Numpy subtraction\n",
            "[[1 1 1]\n",
            " [1 1 1]]\n"
          ],
          "name": "stdout"
        }
      ]
    },
    {
      "cell_type": "code",
      "metadata": {
        "colab": {
          "base_uri": "https://localhost:8080/"
        },
        "id": "VThDMTEPIW9m",
        "outputId": "ef174eb3-5d43-4148-a2d3-9843e5e487f2"
      },
      "source": [
        "#multiplication\n",
        "print(\"Direct multiplication\")\n",
        "print(arr_a *arr_b,'\\n')\n",
        "\n",
        "print(\"Numpy multiplication\")\n",
        "print(np.multiply(arr_a,arr_b))\n",
        "\n"
      ],
      "execution_count": 17,
      "outputs": [
        {
          "output_type": "stream",
          "text": [
            "Direct multiplication\n",
            "[[ 110  420  930]\n",
            " [1640 2550 3660]] \n",
            "\n",
            "Numpy multiplication\n",
            "[[ 110  420  930]\n",
            " [1640 2550 3660]]\n"
          ],
          "name": "stdout"
        }
      ]
    },
    {
      "cell_type": "code",
      "metadata": {
        "colab": {
          "base_uri": "https://localhost:8080/"
        },
        "id": "D4ChOwx1JI6q",
        "outputId": "11da0e93-e47d-4821-be7d-d3a59aa02566"
      },
      "source": [
        "#division\n",
        "print(\"Direct division\")\n",
        "print(arr_b / arr_a, '\\n')\n",
        "\n",
        "print(\"Numpy division\")\n",
        "print(np.divide(arr_b, arr_a))\n",
        "\n"
      ],
      "execution_count": 18,
      "outputs": [
        {
          "output_type": "stream",
          "text": [
            "Direct division\n",
            "[[1.1        1.05       1.03333333]\n",
            " [1.025      1.02       1.01666667]] \n",
            "\n",
            "Numpy division\n",
            "[[1.1        1.05       1.03333333]\n",
            " [1.025      1.02       1.01666667]]\n"
          ],
          "name": "stdout"
        }
      ]
    },
    {
      "cell_type": "code",
      "metadata": {
        "colab": {
          "base_uri": "https://localhost:8080/"
        },
        "id": "yoauP4T5KfFX",
        "outputId": "c3d0d8ab-b2e8-4ad3-9e90-30cc943bc72a"
      },
      "source": [
        "#square root\n",
        "print (np.sqrt(arr_a))\n",
        "\n"
      ],
      "execution_count": 19,
      "outputs": [
        {
          "output_type": "stream",
          "text": [
            "[[3.16227766 4.47213595 5.47722558]\n",
            " [6.32455532 7.07106781 7.74596669]]\n"
          ],
          "name": "stdout"
        }
      ]
    },
    {
      "cell_type": "code",
      "metadata": {
        "colab": {
          "base_uri": "https://localhost:8080/"
        },
        "id": "_Cd3EXM1K1oo",
        "outputId": "4c77eb01-4716-483e-c55f-20c5bf2f16fb"
      },
      "source": [
        "#exponent(e**x)\n",
        "print (np.exp(arr_a))\n",
        "\n"
      ],
      "execution_count": 20,
      "outputs": [
        {
          "output_type": "stream",
          "text": [
            "[[2.20264658e+04 4.85165195e+08 1.06864746e+13]\n",
            " [2.35385267e+17 5.18470553e+21 1.14200739e+26]]\n"
          ],
          "name": "stdout"
        }
      ]
    },
    {
      "cell_type": "code",
      "metadata": {
        "colab": {
          "base_uri": "https://localhost:8080/"
        },
        "id": "Ytsh07WmLOyo",
        "outputId": "c9a4327f-cdee-44e9-f71b-f208d24fbb55"
      },
      "source": [
        "#power\n",
        "print(np.power(arr_a,2))\n",
        "\n"
      ],
      "execution_count": 21,
      "outputs": [
        {
          "output_type": "stream",
          "text": [
            "[[ 100  400  900]\n",
            " [1600 2500 3600]]\n"
          ],
          "name": "stdout"
        }
      ]
    },
    {
      "cell_type": "code",
      "metadata": {
        "colab": {
          "base_uri": "https://localhost:8080/"
        },
        "id": "E5o_YA9FLcEd",
        "outputId": "72e3d2a0-5234-4ffd-d090-581233791c05"
      },
      "source": [
        "#Assignment\n",
        "arr_x= np.array([[70, 80, 90],[71, 81, 91]])\n",
        "arr_y= np.array([[22, 33, 44],[23, 34, 45]])\n",
        "\n",
        "print(\"Array X\")\n",
        "print(arr_x,'\\n')\n",
        "\n",
        "print(\"Array Y\")\n",
        "print(arr_y, '\\n')\n",
        "\n",
        "print(\"Direct addition\")\n",
        "print(arr_x + arr_y, '\\n')\n",
        "\n",
        "print(\"Direct subtraction\")\n",
        "print(arr_y - arr_x, '\\n')\n",
        "\n",
        "print(\"Direct multiplication\")\n",
        "print(arr_x * 5, '\\n')\n",
        "\n",
        "print(\"Direct division\")\n",
        "print(arr_y / 10, '\\n')\n",
        "\n",
        "\n",
        "\n"
      ],
      "execution_count": 22,
      "outputs": [
        {
          "output_type": "stream",
          "text": [
            "Array X\n",
            "[[70 80 90]\n",
            " [71 81 91]] \n",
            "\n",
            "Array Y\n",
            "[[22 33 44]\n",
            " [23 34 45]] \n",
            "\n",
            "Direct addition\n",
            "[[ 92 113 134]\n",
            " [ 94 115 136]] \n",
            "\n",
            "Direct subtraction\n",
            "[[-48 -47 -46]\n",
            " [-48 -47 -46]] \n",
            "\n",
            "Direct multiplication\n",
            "[[350 400 450]\n",
            " [355 405 455]] \n",
            "\n",
            "Direct division\n",
            "[[2.2 3.3 4.4]\n",
            " [2.3 3.4 4.5]] \n",
            "\n"
          ],
          "name": "stdout"
        }
      ]
    },
    {
      "cell_type": "code",
      "metadata": {
        "id": "WHF_bhMKQxhr"
      },
      "source": [
        "import pandas as pd"
      ],
      "execution_count": 25,
      "outputs": []
    },
    {
      "cell_type": "code",
      "metadata": {
        "colab": {
          "base_uri": "https://localhost:8080/"
        },
        "id": "UsA0P6g2PcQz",
        "outputId": "edc9c4e1-63a9-4f59-b3f4-e4d7301e2834"
      },
      "source": [
        "#creating panda series from list\n",
        "lts= ['a', 'b', 'c', 'd', 'e']\n",
        "ser_1 = pd.Series(lts)\n",
        "\n",
        "print (ser_1)\n",
        "\n"
      ],
      "execution_count": 26,
      "outputs": [
        {
          "output_type": "stream",
          "text": [
            "0    a\n",
            "1    b\n",
            "2    c\n",
            "3    d\n",
            "4    e\n",
            "dtype: object\n"
          ],
          "name": "stdout"
        }
      ]
    },
    {
      "cell_type": "code",
      "metadata": {
        "colab": {
          "base_uri": "https://localhost:8080/"
        },
        "id": "UZUyjzmMRZZE",
        "outputId": "5097e97d-c963-48ec-d09b-93174178a08c"
      },
      "source": [
        "#creating panda series from array\n",
        "arr= np.array([10, 20, 30, 40, 50])\n",
        "ser_2= pd.Series(arr)\n",
        "\n",
        "print(ser_2)\n",
        "\n"
      ],
      "execution_count": 29,
      "outputs": [
        {
          "output_type": "stream",
          "text": [
            "0    10\n",
            "1    20\n",
            "2    30\n",
            "3    40\n",
            "4    50\n",
            "dtype: int64\n"
          ],
          "name": "stdout"
        }
      ]
    },
    {
      "cell_type": "code",
      "metadata": {
        "colab": {
          "base_uri": "https://localhost:8080/"
        },
        "id": "37cbNhi8Vztw",
        "outputId": "8b0bb3f6-154d-4f44-dead-9082dcab808c"
      },
      "source": [
        "#create series with specific indexing\n",
        "ser_3= pd.Series(arr, index=['a', 'b', 'c', 'd','e'])\n",
        "\n",
        "print(ser_3)\n",
        "\n"
      ],
      "execution_count": 30,
      "outputs": [
        {
          "output_type": "stream",
          "text": [
            "a    10\n",
            "b    20\n",
            "c    30\n",
            "d    40\n",
            "e    50\n",
            "dtype: int64\n"
          ],
          "name": "stdout"
        }
      ]
    },
    {
      "cell_type": "code",
      "metadata": {
        "colab": {
          "base_uri": "https://localhost:8080/"
        },
        "id": "uIjGgv0lXbCQ",
        "outputId": "295aca3a-9c2b-4449-d647-c88b1e39700c"
      },
      "source": [
        "#accessing an element using the index\n",
        "print(ser_3[3], '\\n\\n')\n",
        "print(ser_3[[0, 2, 4]], '\\n\\n')\n",
        "print(ser_3[:3])\n",
        "\n"
      ],
      "execution_count": 31,
      "outputs": [
        {
          "output_type": "stream",
          "text": [
            "40 \n",
            "\n",
            "\n",
            "a    10\n",
            "c    30\n",
            "e    50\n",
            "dtype: int64 \n",
            "\n",
            "\n",
            "a    10\n",
            "b    20\n",
            "c    30\n",
            "dtype: int64\n"
          ],
          "name": "stdout"
        }
      ]
    },
    {
      "cell_type": "code",
      "metadata": {
        "colab": {
          "base_uri": "https://localhost:8080/"
        },
        "id": "4_R1NeL_ZMrF",
        "outputId": "f31bf47a-0048-469f-a4e4-447749c90426"
      },
      "source": [
        "#accessing element using index label\n",
        "print(ser_3['a'])\n",
        "print(ser_3[['b', 'a']])\n",
        "\n",
        "\n"
      ],
      "execution_count": 32,
      "outputs": [
        {
          "output_type": "stream",
          "text": [
            "10\n",
            "b    20\n",
            "a    10\n",
            "dtype: int64\n"
          ],
          "name": "stdout"
        }
      ]
    },
    {
      "cell_type": "code",
      "metadata": {
        "colab": {
          "base_uri": "https://localhost:8080/"
        },
        "id": "TE-tIrkgZ4H6",
        "outputId": "3978bd6c-54e8-479a-c803-73a4fc50dc8b"
      },
      "source": [
        "#creating from a list of lists\n",
        "pet_info = [['Howard', 10, 'Goat'],['Lucy', 4, 'Fish'],['Roco', 8, 'Lizard']]\n",
        "pet_info\n",
        "\n"
      ],
      "execution_count": 35,
      "outputs": [
        {
          "output_type": "execute_result",
          "data": {
            "text/plain": [
              "[['Howard', 10, 'Goat'], ['Lucy', 4, 'Fish'], ['Roco', 8, 'Lizard']]"
            ]
          },
          "metadata": {
            "tags": []
          },
          "execution_count": 35
        }
      ]
    },
    {
      "cell_type": "code",
      "metadata": {
        "colab": {
          "base_uri": "https://localhost:8080/",
          "height": 142
        },
        "id": "F8SmOnKJbeZO",
        "outputId": "d335ba25-214d-48d4-ad03-9209ac67f3d7"
      },
      "source": [
        "pet_df = pd.DataFrame(pet_info, columns= ['Name','Age', 'Type'], index=['A', 'B', 'C'])\n",
        "pet_df\n",
        "\n"
      ],
      "execution_count": 36,
      "outputs": [
        {
          "output_type": "execute_result",
          "data": {
            "text/html": [
              "<div>\n",
              "<style scoped>\n",
              "    .dataframe tbody tr th:only-of-type {\n",
              "        vertical-align: middle;\n",
              "    }\n",
              "\n",
              "    .dataframe tbody tr th {\n",
              "        vertical-align: top;\n",
              "    }\n",
              "\n",
              "    .dataframe thead th {\n",
              "        text-align: right;\n",
              "    }\n",
              "</style>\n",
              "<table border=\"1\" class=\"dataframe\">\n",
              "  <thead>\n",
              "    <tr style=\"text-align: right;\">\n",
              "      <th></th>\n",
              "      <th>Name</th>\n",
              "      <th>Age</th>\n",
              "      <th>Type</th>\n",
              "    </tr>\n",
              "  </thead>\n",
              "  <tbody>\n",
              "    <tr>\n",
              "      <th>A</th>\n",
              "      <td>Howard</td>\n",
              "      <td>10</td>\n",
              "      <td>Goat</td>\n",
              "    </tr>\n",
              "    <tr>\n",
              "      <th>B</th>\n",
              "      <td>Lucy</td>\n",
              "      <td>4</td>\n",
              "      <td>Fish</td>\n",
              "    </tr>\n",
              "    <tr>\n",
              "      <th>C</th>\n",
              "      <td>Roco</td>\n",
              "      <td>8</td>\n",
              "      <td>Lizard</td>\n",
              "    </tr>\n",
              "  </tbody>\n",
              "</table>\n",
              "</div>"
            ],
            "text/plain": [
              "     Name  Age    Type\n",
              "A  Howard   10    Goat\n",
              "B    Lucy    4    Fish\n",
              "C    Roco    8  Lizard"
            ]
          },
          "metadata": {
            "tags": []
          },
          "execution_count": 36
        }
      ]
    },
    {
      "cell_type": "code",
      "metadata": {
        "colab": {
          "base_uri": "https://localhost:8080/"
        },
        "id": "6nQDFt2Lcmn-",
        "outputId": "29521a03-9e3e-41d4-eb91-fa57c15d1529"
      },
      "source": [
        "pet_df['Name']\n",
        "\n"
      ],
      "execution_count": 37,
      "outputs": [
        {
          "output_type": "execute_result",
          "data": {
            "text/plain": [
              "A    Howard\n",
              "B      Lucy\n",
              "C      Roco\n",
              "Name: Name, dtype: object"
            ]
          },
          "metadata": {
            "tags": []
          },
          "execution_count": 37
        }
      ]
    },
    {
      "cell_type": "code",
      "metadata": {
        "colab": {
          "base_uri": "https://localhost:8080/",
          "height": 142
        },
        "id": "0dcy60dPc4Sd",
        "outputId": "bd128c24-9197-4e30-eeb9-94ec9e8b9bef"
      },
      "source": [
        "pet_df[['Name', 'Age']]\n",
        "\n"
      ],
      "execution_count": 38,
      "outputs": [
        {
          "output_type": "execute_result",
          "data": {
            "text/html": [
              "<div>\n",
              "<style scoped>\n",
              "    .dataframe tbody tr th:only-of-type {\n",
              "        vertical-align: middle;\n",
              "    }\n",
              "\n",
              "    .dataframe tbody tr th {\n",
              "        vertical-align: top;\n",
              "    }\n",
              "\n",
              "    .dataframe thead th {\n",
              "        text-align: right;\n",
              "    }\n",
              "</style>\n",
              "<table border=\"1\" class=\"dataframe\">\n",
              "  <thead>\n",
              "    <tr style=\"text-align: right;\">\n",
              "      <th></th>\n",
              "      <th>Name</th>\n",
              "      <th>Age</th>\n",
              "    </tr>\n",
              "  </thead>\n",
              "  <tbody>\n",
              "    <tr>\n",
              "      <th>A</th>\n",
              "      <td>Howard</td>\n",
              "      <td>10</td>\n",
              "    </tr>\n",
              "    <tr>\n",
              "      <th>B</th>\n",
              "      <td>Lucy</td>\n",
              "      <td>4</td>\n",
              "    </tr>\n",
              "    <tr>\n",
              "      <th>C</th>\n",
              "      <td>Roco</td>\n",
              "      <td>8</td>\n",
              "    </tr>\n",
              "  </tbody>\n",
              "</table>\n",
              "</div>"
            ],
            "text/plain": [
              "     Name  Age\n",
              "A  Howard   10\n",
              "B    Lucy    4\n",
              "C    Roco    8"
            ]
          },
          "metadata": {
            "tags": []
          },
          "execution_count": 38
        }
      ]
    },
    {
      "cell_type": "code",
      "metadata": {
        "colab": {
          "base_uri": "https://localhost:8080/"
        },
        "id": "PhoHmHvade-K",
        "outputId": "e8ab7696-7ce5-47bd-ac95-08d401477ae4"
      },
      "source": [
        "#Exercise2\n",
        "pet_df['Type']\n",
        "\n"
      ],
      "execution_count": 39,
      "outputs": [
        {
          "output_type": "execute_result",
          "data": {
            "text/plain": [
              "A      Goat\n",
              "B      Fish\n",
              "C    Lizard\n",
              "Name: Type, dtype: object"
            ]
          },
          "metadata": {
            "tags": []
          },
          "execution_count": 39
        }
      ]
    },
    {
      "cell_type": "code",
      "metadata": {
        "colab": {
          "base_uri": "https://localhost:8080/"
        },
        "id": "ZhIk6Ou0eF-y",
        "outputId": "502b4005-c2a4-42b8-b798-ec9bec4135e1"
      },
      "source": [
        "pet_df.iloc[1]\n",
        "\n"
      ],
      "execution_count": 40,
      "outputs": [
        {
          "output_type": "execute_result",
          "data": {
            "text/plain": [
              "Name    Lucy\n",
              "Age        4\n",
              "Type    Fish\n",
              "Name: B, dtype: object"
            ]
          },
          "metadata": {
            "tags": []
          },
          "execution_count": 40
        }
      ]
    },
    {
      "cell_type": "code",
      "metadata": {
        "colab": {
          "base_uri": "https://localhost:8080/"
        },
        "id": "rjTR9nf1eNqV",
        "outputId": "18c40753-ed58-433d-b8da-edd26a1e8f85"
      },
      "source": [
        "pet_df.loc['B']\n",
        "\n"
      ],
      "execution_count": 41,
      "outputs": [
        {
          "output_type": "execute_result",
          "data": {
            "text/plain": [
              "Name    Lucy\n",
              "Age        4\n",
              "Type    Fish\n",
              "Name: B, dtype: object"
            ]
          },
          "metadata": {
            "tags": []
          },
          "execution_count": 41
        }
      ]
    },
    {
      "cell_type": "code",
      "metadata": {
        "colab": {
          "base_uri": "https://localhost:8080/"
        },
        "id": "dLGB0P3_fmsC",
        "outputId": "00b5df45-bf11-42e4-d073-27062c69590b"
      },
      "source": [
        "#creating a list of list\n",
        "pet_info= [[68.478, 190.686 ], [71.28444, 199.6353], [64.98046, 166.8215], [66.76188, 178.7975 ],[68.76616, 185.7722 ],[68.99254, 193.755]]\n",
        "pet_info\n",
        "\n"
      ],
      "execution_count": 42,
      "outputs": [
        {
          "output_type": "execute_result",
          "data": {
            "text/plain": [
              "[[68.478, 190.686],\n",
              " [71.28444, 199.6353],\n",
              " [64.98046, 166.8215],\n",
              " [66.76188, 178.7975],\n",
              " [68.76616, 185.7722],\n",
              " [68.99254, 193.755]]"
            ]
          },
          "metadata": {
            "tags": []
          },
          "execution_count": 42
        }
      ]
    },
    {
      "cell_type": "code",
      "metadata": {
        "colab": {
          "base_uri": "https://localhost:8080/",
          "height": 235
        },
        "id": "rgDm5RiHiN5j",
        "outputId": "294b1086-3fe5-4deb-a5e2-e7553ce3e15c"
      },
      "source": [
        "pet_df= pd.DataFrame(pet_info, columns= ['Weight', 'Height'], index=['A','B','C','D','E','F'])\n",
        "pet_df\n",
        "\n"
      ],
      "execution_count": 44,
      "outputs": [
        {
          "output_type": "execute_result",
          "data": {
            "text/html": [
              "<div>\n",
              "<style scoped>\n",
              "    .dataframe tbody tr th:only-of-type {\n",
              "        vertical-align: middle;\n",
              "    }\n",
              "\n",
              "    .dataframe tbody tr th {\n",
              "        vertical-align: top;\n",
              "    }\n",
              "\n",
              "    .dataframe thead th {\n",
              "        text-align: right;\n",
              "    }\n",
              "</style>\n",
              "<table border=\"1\" class=\"dataframe\">\n",
              "  <thead>\n",
              "    <tr style=\"text-align: right;\">\n",
              "      <th></th>\n",
              "      <th>Weight</th>\n",
              "      <th>Height</th>\n",
              "    </tr>\n",
              "  </thead>\n",
              "  <tbody>\n",
              "    <tr>\n",
              "      <th>A</th>\n",
              "      <td>68.47800</td>\n",
              "      <td>190.6860</td>\n",
              "    </tr>\n",
              "    <tr>\n",
              "      <th>B</th>\n",
              "      <td>71.28444</td>\n",
              "      <td>199.6353</td>\n",
              "    </tr>\n",
              "    <tr>\n",
              "      <th>C</th>\n",
              "      <td>64.98046</td>\n",
              "      <td>166.8215</td>\n",
              "    </tr>\n",
              "    <tr>\n",
              "      <th>D</th>\n",
              "      <td>66.76188</td>\n",
              "      <td>178.7975</td>\n",
              "    </tr>\n",
              "    <tr>\n",
              "      <th>E</th>\n",
              "      <td>68.76616</td>\n",
              "      <td>185.7722</td>\n",
              "    </tr>\n",
              "    <tr>\n",
              "      <th>F</th>\n",
              "      <td>68.99254</td>\n",
              "      <td>193.7550</td>\n",
              "    </tr>\n",
              "  </tbody>\n",
              "</table>\n",
              "</div>"
            ],
            "text/plain": [
              "     Weight    Height\n",
              "A  68.47800  190.6860\n",
              "B  71.28444  199.6353\n",
              "C  64.98046  166.8215\n",
              "D  66.76188  178.7975\n",
              "E  68.76616  185.7722\n",
              "F  68.99254  193.7550"
            ]
          },
          "metadata": {
            "tags": []
          },
          "execution_count": 44
        }
      ]
    },
    {
      "cell_type": "code",
      "metadata": {
        "colab": {
          "base_uri": "https://localhost:8080/"
        },
        "id": "nuZTYTGoj-0M",
        "outputId": "dcd671b5-1969-4360-b108-b4a4e42acdb7"
      },
      "source": [
        "pet_df.iloc[4]\n",
        "\n"
      ],
      "execution_count": 45,
      "outputs": [
        {
          "output_type": "execute_result",
          "data": {
            "text/plain": [
              "Weight     68.76616\n",
              "Height    185.77220\n",
              "Name: E, dtype: float64"
            ]
          },
          "metadata": {
            "tags": []
          },
          "execution_count": 45
        }
      ]
    },
    {
      "cell_type": "code",
      "metadata": {
        "colab": {
          "base_uri": "https://localhost:8080/"
        },
        "id": "6dC1xyMCkQR2",
        "outputId": "8057803d-5ed1-41e6-dd1c-0867ce6941dc"
      },
      "source": [
        "pet_df['Height']"
      ],
      "execution_count": 48,
      "outputs": [
        {
          "output_type": "execute_result",
          "data": {
            "text/plain": [
              "A    190.6860\n",
              "B    199.6353\n",
              "C    166.8215\n",
              "D    178.7975\n",
              "E    185.7722\n",
              "F    193.7550\n",
              "Name: Height, dtype: float64"
            ]
          },
          "metadata": {
            "tags": []
          },
          "execution_count": 48
        }
      ]
    }
  ]
}