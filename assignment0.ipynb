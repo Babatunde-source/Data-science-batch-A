{
  "nbformat": 4,
  "nbformat_minor": 0,
  "metadata": {
    "colab": {
      "name": "assignment1.ipynb",
      "provenance": [],
      "collapsed_sections": [],
      "include_colab_link": true
    },
    "kernelspec": {
      "name": "python3",
      "display_name": "Python 3"
    },
    "language_info": {
      "name": "python"
    }
  },
  "cells": [
    {
      "cell_type": "markdown",
      "metadata": {
        "id": "view-in-github",
        "colab_type": "text"
      },
      "source": [
        "<a href=\"https://colab.research.google.com/github/Babatunde-source/Data-science-batch-A/blob/main/assignment0.ipynb\" target=\"_parent\"><img src=\"https://colab.research.google.com/assets/colab-badge.svg\" alt=\"Open In Colab\"/></a>"
      ]
    },
    {
      "cell_type": "markdown",
      "metadata": {
        "id": "elkmrL3AMcoc"
      },
      "source": [
        "**INTRODUCTION TO DATA SCIENCE - WEEK 1** \n",
        "\n",
        "1. Importing Libraries.\n",
        "1. Python Built-in Methods: print, len, min, max, count, sum, range, append, remove, insert, sort.\n",
        "1. Data types and structures: integer, float, string, list, dictionary, tuple.\n",
        "1. Introduction to python methods and classes.\n",
        "1. Python statement and loops: for and while loop, if, if-else, break, continue statement."
      ]
    },
    {
      "cell_type": "code",
      "metadata": {
        "colab": {
          "base_uri": "https://localhost:8080/"
        },
        "id": "ZuXA11hGzRlT",
        "outputId": "4a9a003d-e584-4e27-a9c2-9de39727b26d"
      },
      "source": [
        "from platform import python_version\n",
        "print(python_version())"
      ],
      "execution_count": null,
      "outputs": [
        {
          "output_type": "stream",
          "text": [
            "3.7.10\n"
          ],
          "name": "stdout"
        }
      ]
    },
    {
      "cell_type": "code",
      "metadata": {
        "colab": {
          "base_uri": "https://localhost:8080/"
        },
        "id": "-55yj1AL0nPV",
        "outputId": "b1ec72fe-2779-4b65-b4cd-98424c0c808e"
      },
      "source": [
        "#integer value\n",
        "i_val = 10\n",
        "print(i_val)"
      ],
      "execution_count": null,
      "outputs": [
        {
          "output_type": "stream",
          "text": [
            "10\n"
          ],
          "name": "stdout"
        }
      ]
    },
    {
      "cell_type": "code",
      "metadata": {
        "colab": {
          "base_uri": "https://localhost:8080/"
        },
        "id": "FvJjAdm_0oRN",
        "outputId": "13107554-aef2-4173-fe47-ae408a51e117"
      },
      "source": [
        "#float value\n",
        "f_val = 13.6455\n",
        "print(f_val,type(f_val))        "
      ],
      "execution_count": null,
      "outputs": [
        {
          "output_type": "stream",
          "text": [
            "13.6455 <class 'float'>\n"
          ],
          "name": "stdout"
        }
      ]
    },
    {
      "cell_type": "code",
      "metadata": {
        "colab": {
          "base_uri": "https://localhost:8080/"
        },
        "id": "d3j98V6s0yHw",
        "outputId": "aaa08a36-bbd7-4871-9fff-9dc091c48639"
      },
      "source": [
        "#complex value\n",
        "c_val = 3.142j\n",
        "print(c_val, type(c_val))"
      ],
      "execution_count": null,
      "outputs": [
        {
          "output_type": "stream",
          "text": [
            "3.142j <class 'complex'>\n"
          ],
          "name": "stdout"
        }
      ]
    },
    {
      "cell_type": "code",
      "metadata": {
        "colab": {
          "base_uri": "https://localhost:8080/"
        },
        "id": "naq6r1YVzxSB",
        "outputId": "6f58f9ac-92e4-4ac1-b069-92c5bcfbb9ca"
      },
      "source": [
        "# string value\n",
        "str_val = 'Hello World'\n",
        "print(type(str_val))\n",
        "print(str_val)"
      ],
      "execution_count": null,
      "outputs": [
        {
          "output_type": "stream",
          "text": [
            "<class 'str'>\n",
            "Hello World\n"
          ],
          "name": "stdout"
        }
      ]
    },
    {
      "cell_type": "code",
      "metadata": {
        "colab": {
          "base_uri": "https://localhost:8080/"
        },
        "id": "4VIlpcGC0atz",
        "outputId": "728ab28f-38a1-4d32-da07-096136ac703b"
      },
      "source": [
        "str_val = 'Hello World'\n",
        "print(str_val[6])"
      ],
      "execution_count": null,
      "outputs": [
        {
          "output_type": "stream",
          "text": [
            "W\n"
          ],
          "name": "stdout"
        }
      ]
    },
    {
      "cell_type": "code",
      "metadata": {
        "id": "fH71QhBXzro1"
      },
      "source": [
        "list1 = ['abcd',4321,10.5422,'d'] #can be an array of any data type or single data type.\n",
        "list2 = ['hello','world']"
      ],
      "execution_count": null,
      "outputs": []
    },
    {
      "cell_type": "code",
      "metadata": {
        "colab": {
          "base_uri": "https://localhost:8080/"
        },
        "id": "4DjJE0BEjlNf",
        "outputId": "a07d3074-c997-4f85-e2a3-a03fea1e7f9a"
      },
      "source": [
        "print(list1[1])"
      ],
      "execution_count": null,
      "outputs": [
        {
          "output_type": "stream",
          "text": [
            "4321\n"
          ],
          "name": "stdout"
        }
      ]
    },
    {
      "cell_type": "code",
      "metadata": {
        "id": "WB5ZB9_O02Ht"
      },
      "source": [
        ""
      ],
      "execution_count": null,
      "outputs": []
    },
    {
      "cell_type": "code",
      "metadata": {
        "id": "qCq-kodx1Be4"
      },
      "source": [
        ""
      ],
      "execution_count": null,
      "outputs": []
    },
    {
      "cell_type": "code",
      "metadata": {
        "colab": {
          "base_uri": "https://localhost:8080/"
        },
        "id": "8hzvOtUsjuuO",
        "outputId": "991f308d-675a-41f7-d3fd-f78a2580a945"
      },
      "source": [
        "print(list2[1])"
      ],
      "execution_count": null,
      "outputs": [
        {
          "output_type": "stream",
          "text": [
            "world\n"
          ],
          "name": "stdout"
        }
      ]
    },
    {
      "cell_type": "code",
      "metadata": {
        "colab": {
          "base_uri": "https://localhost:8080/"
        },
        "id": "nmL3C0px0EFg",
        "outputId": "3b7834d1-1f41-4c6e-cf38-8b3da2023021"
      },
      "source": [
        "dict_1 = {'name':'bill','age':30}\n",
        "print(dict_1['name']) #will output all the key-value pairs. "
      ],
      "execution_count": null,
      "outputs": [
        {
          "output_type": "stream",
          "text": [
            "bill\n"
          ],
          "name": "stdout"
        }
      ]
    },
    {
      "cell_type": "code",
      "metadata": {
        "colab": {
          "base_uri": "https://localhost:8080/"
        },
        "id": "NW1NkzkD0J4I",
        "outputId": "74ec36c4-1873-4b63-8ff5-b6b04da2e0a1"
      },
      "source": [
        "dict_1 = {'name':'bill','age':30}\n",
        "print(dict_1.values())              "
      ],
      "execution_count": null,
      "outputs": [
        {
          "output_type": "stream",
          "text": [
            "dict_values(['bill', 30])\n"
          ],
          "name": "stdout"
        }
      ]
    },
    {
      "cell_type": "code",
      "metadata": {
        "colab": {
          "base_uri": "https://localhost:8080/"
        },
        "id": "RYJChdYk0LJ4",
        "outputId": "ba438072-4a85-4468-e1f4-bb2bc2384f4e"
      },
      "source": [
        "dict_1 = {'name':'bill','age':30}\n",
        "print(dict_1.keys())"
      ],
      "execution_count": null,
      "outputs": [
        {
          "output_type": "stream",
          "text": [
            "dict_keys(['name', 'age'])\n"
          ],
          "name": "stdout"
        }
      ]
    },
    {
      "cell_type": "code",
      "metadata": {
        "id": "ySwf1pdi2mbe",
        "colab": {
          "base_uri": "https://localhost:8080/"
        },
        "outputId": "63a21745-7879-4058-abcf-3b9fdaa51f2e"
      },
      "source": [
        "list1 = [1, 2, 3, 4, 5, 6, 7]\n",
        "tuple1 = (1, 2, 3, 4, 5, 6, 7)\n",
        "print('The list is: ', list1) # Print the list\n",
        "print('The tuple is: ', tuple1) # Print the tuple"
      ],
      "execution_count": null,
      "outputs": [
        {
          "output_type": "stream",
          "text": [
            "The list is:  [1, 2, 3, 4, 5, 6, 7]\n",
            "The tuple is:  (1, 2, 3, 4, 5, 6, 7)\n"
          ],
          "name": "stdout"
        }
      ]
    },
    {
      "cell_type": "markdown",
      "metadata": {
        "id": "Y4Cb5bS9EQd_"
      },
      "source": [
        "**Python Built-in Methods: print, len, min, max, count, sum, range, append, remove, insert, sort.**"
      ]
    },
    {
      "cell_type": "code",
      "metadata": {
        "id": "i40KJpcFEcI6"
      },
      "source": [
        "#print(list1)\n",
        "#print(len(list1))\n",
        "#print(min(list1), max(list1))\n",
        "#remove(list1[3])"
      ],
      "execution_count": null,
      "outputs": []
    },
    {
      "cell_type": "markdown",
      "metadata": {
        "id": "gpviLMwQ9PqN"
      },
      "source": [
        "**Control statement and logical operators**"
      ]
    },
    {
      "cell_type": "code",
      "metadata": {
        "colab": {
          "base_uri": "https://localhost:8080/"
        },
        "id": "NBP1Cj9rzZHY",
        "outputId": "71422e18-e95c-4db7-c88e-226b5a4a8122"
      },
      "source": [
        "# A simple if statement\n",
        "num = 4\n",
        "if num != 5:\n",
        "   print(\"I told you..\")"
      ],
      "execution_count": null,
      "outputs": [
        {
          "output_type": "stream",
          "text": [
            "I told you..\n"
          ],
          "name": "stdout"
        }
      ]
    },
    {
      "cell_type": "code",
      "metadata": {
        "colab": {
          "base_uri": "https://localhost:8080/"
        },
        "id": "8AwR3IFtzStJ",
        "outputId": "a0bcd281-57e7-466c-9304-8f9a9a5da52c"
      },
      "source": [
        "num = int(input('Enter any number: '))\n",
        "if num < 0:\n",
        "   print('Its negative')\n",
        "else:\n",
        "   print('Its not negative')"
      ],
      "execution_count": null,
      "outputs": [
        {
          "output_type": "stream",
          "text": [
            "Enter any number: 2\n",
            "Its not negative\n"
          ],
          "name": "stdout"
        }
      ]
    },
    {
      "cell_type": "code",
      "metadata": {
        "colab": {
          "base_uri": "https://localhost:8080/"
        },
        "id": "IY-0aebMzKIG",
        "outputId": "6dff4f8b-926e-4d88-e11a-251752afbceb"
      },
      "source": [
        "# validating if a number is less than or greater than a particular value\n",
        "num = 30\n",
        "if(num < 50 or num > 20):\n",
        "  print(\"The number is between 20 and 50\")"
      ],
      "execution_count": null,
      "outputs": [
        {
          "output_type": "stream",
          "text": [
            "The number is between 20 and 50\n"
          ],
          "name": "stdout"
        }
      ]
    },
    {
      "cell_type": "code",
      "metadata": {
        "colab": {
          "base_uri": "https://localhost:8080/"
        },
        "id": "VD716ANfL9AE",
        "outputId": "5addbff8-9002-4dd0-ee12-4ef7b539c27d"
      },
      "source": [
        "# validating if a number is within range\n",
        "num = 5\n",
        "if(num > 10 and num <30):\n",
        "  print(\"The number is within range\")\n",
        "else:\n",
        "  print(\"The number is out of range\")  "
      ],
      "execution_count": null,
      "outputs": [
        {
          "output_type": "stream",
          "text": [
            "The number is out of range\n"
          ],
          "name": "stdout"
        }
      ]
    },
    {
      "cell_type": "code",
      "metadata": {
        "colab": {
          "base_uri": "https://localhost:8080/"
        },
        "id": "vxM9Tw7XqDS_",
        "outputId": "b8747ade-d5b1-4d91-bba6-c94b3a8c9cbc"
      },
      "source": [
        "n = 5\n",
        "for i in (1, n):\n",
        "  print(n)"
      ],
      "execution_count": null,
      "outputs": [
        {
          "output_type": "stream",
          "text": [
            "5\n",
            "5\n"
          ],
          "name": "stdout"
        }
      ]
    },
    {
      "cell_type": "code",
      "metadata": {
        "colab": {
          "base_uri": "https://localhost:8080/"
        },
        "id": "pgFvQK081et1",
        "outputId": "09024111-5e29-4635-fb6a-0f0551d0295d"
      },
      "source": [
        "# using range method to define group of number with step size\n",
        "num = 1 # Initialize sum\n",
        "for i in range(1, 100, 10): #for loop with step size\n",
        "    print(num)"
      ],
      "execution_count": null,
      "outputs": [
        {
          "output_type": "stream",
          "text": [
            "1\n",
            "1\n",
            "1\n",
            "1\n",
            "1\n",
            "1\n",
            "1\n",
            "1\n",
            "1\n",
            "1\n"
          ],
          "name": "stdout"
        }
      ]
    },
    {
      "cell_type": "code",
      "metadata": {
        "colab": {
          "base_uri": "https://localhost:8080/"
        },
        "id": "k1jbguDr1ga6",
        "outputId": "467dd513-36fd-454d-d2ca-a5278a0465c3"
      },
      "source": [
        "# A Simple Nested For Loop\n",
        "for i in range(1, 10, 1):\n",
        "  print(i)\n",
        "  for j in range(1, 5, 1):\n",
        "    print(j)"
      ],
      "execution_count": null,
      "outputs": [
        {
          "output_type": "stream",
          "text": [
            "1\n",
            "1\n",
            "2\n",
            "3\n",
            "4\n",
            "2\n",
            "1\n",
            "2\n",
            "3\n",
            "4\n",
            "3\n",
            "1\n",
            "2\n",
            "3\n",
            "4\n",
            "4\n",
            "1\n",
            "2\n",
            "3\n",
            "4\n",
            "5\n",
            "1\n",
            "2\n",
            "3\n",
            "4\n",
            "6\n",
            "1\n",
            "2\n",
            "3\n",
            "4\n",
            "7\n",
            "1\n",
            "2\n",
            "3\n",
            "4\n",
            "8\n",
            "1\n",
            "2\n",
            "3\n",
            "4\n",
            "9\n",
            "1\n",
            "2\n",
            "3\n",
            "4\n"
          ],
          "name": "stdout"
        }
      ]
    },
    {
      "cell_type": "code",
      "metadata": {
        "colab": {
          "base_uri": "https://localhost:8080/"
        },
        "id": "IR2oFsGK1St2",
        "outputId": "ab70813c-d874-4897-8786-790e049433ba"
      },
      "source": [
        "count = 1 # Initialize counter\n",
        "print(\"Counter initialized\")\n",
        "while count < 8: # Should we continue?\n",
        "      print(count) # Display count, then\n",
        "      count += 1 # Increment counter        count = count + 1"
      ],
      "execution_count": null,
      "outputs": [
        {
          "output_type": "stream",
          "text": [
            "Counter initialized\n",
            "1\n",
            "2\n",
            "3\n",
            "4\n",
            "5\n",
            "6\n",
            "7\n"
          ],
          "name": "stdout"
        }
      ]
    },
    {
      "cell_type": "code",
      "metadata": {
        "colab": {
          "base_uri": "https://localhost:8080/"
        },
        "id": "lWGJuOGn1vNA",
        "outputId": "07e9038e-e7c0-4fe0-b39e-2bb260fe9678"
      },
      "source": [
        "# Only print code if all iterations completed \n",
        "num = int(input('Enter a number to check for: '))\n",
        "for i in range(1, num):\n",
        "    print(i, ' ')\n",
        "    if i == num:\n",
        "        break\n",
        "    else:\n",
        "        continue\n",
        "    \n",
        "print('Done')"
      ],
      "execution_count": null,
      "outputs": [
        {
          "output_type": "stream",
          "text": [
            "Enter a number to check for: 2\n",
            "1  \n",
            "Done\n"
          ],
          "name": "stdout"
        }
      ]
    },
    {
      "cell_type": "markdown",
      "metadata": {
        "id": "gy14kX0f8fw6"
      },
      "source": [
        "**Introduction to python function and class**"
      ]
    },
    {
      "cell_type": "code",
      "metadata": {
        "id": "XOykDyfp4kOs"
      },
      "source": [
        "# A simple function to print a sentence\n",
        "def print_note():\n",
        "    print('Hello to data science!')"
      ],
      "execution_count": null,
      "outputs": []
    },
    {
      "cell_type": "code",
      "metadata": {
        "colab": {
          "base_uri": "https://localhost:8080/"
        },
        "id": "Mk9Dg5pusf9W",
        "outputId": "f615c7c5-237c-42b3-9b38-1a3eb5746a8b"
      },
      "source": [
        "print_note()"
      ],
      "execution_count": null,
      "outputs": [
        {
          "output_type": "stream",
          "text": [
            "Hello to data science!\n"
          ],
          "name": "stdout"
        }
      ]
    },
    {
      "cell_type": "code",
      "metadata": {
        "id": "JHst2SE14mUC"
      },
      "source": [
        "# The square function\n",
        "def square(a):\n",
        "    return a * a"
      ],
      "execution_count": null,
      "outputs": []
    },
    {
      "cell_type": "code",
      "metadata": {
        "colab": {
          "base_uri": "https://localhost:8080/"
        },
        "id": "ewBfAwctsxfJ",
        "outputId": "cbd39052-209e-4584-ac4a-4e60ca22c2d1"
      },
      "source": [
        "square(2) #invoke the function"
      ],
      "execution_count": null,
      "outputs": [
        {
          "output_type": "execute_result",
          "data": {
            "text/plain": [
              "4"
            ]
          },
          "metadata": {
            "tags": []
          },
          "execution_count": 68
        }
      ]
    },
    {
      "cell_type": "code",
      "metadata": {
        "colab": {
          "base_uri": "https://localhost:8080/"
        },
        "id": "Vrh3U5EH43_f",
        "outputId": "fc5182ad-f0bd-46af-a820-b8b51606dcc7"
      },
      "source": [
        "# Default parameter\n",
        "def value(x = 15):\n",
        "    return x\n",
        "\n",
        "value(23)"
      ],
      "execution_count": null,
      "outputs": [
        {
          "output_type": "execute_result",
          "data": {
            "text/plain": [
              "23"
            ]
          },
          "metadata": {
            "tags": []
          },
          "execution_count": 16
        }
      ]
    },
    {
      "cell_type": "code",
      "metadata": {
        "colab": {
          "base_uri": "https://localhost:8080/"
        },
        "id": "5bQTJBT3460F",
        "outputId": "d2ec0609-14b0-46b3-8663-1f8828d1e1ba"
      },
      "source": [
        "# Multiple parameters in a function\n",
        "def sum(x = 45, y = 23):\n",
        "    \"\"\" This function is to sum a number\n",
        "\n",
        "    \"\"\"\n",
        "    return x + y\n",
        "\n",
        "sum(5, 8)"
      ],
      "execution_count": null,
      "outputs": [
        {
          "output_type": "execute_result",
          "data": {
            "text/plain": [
              "13"
            ]
          },
          "metadata": {
            "tags": []
          },
          "execution_count": 15
        }
      ]
    },
    {
      "cell_type": "code",
      "metadata": {
        "colab": {
          "base_uri": "https://localhost:8080/"
        },
        "id": "i-SOJdka5EK8",
        "outputId": "f52dc8be-ca80-4178-d940-cf3a7fcae4e4"
      },
      "source": [
        "# A function to count based on value of n\n",
        "def n_count(n = 5):\n",
        "  for x in range(1, n + 1):\n",
        "    print(x, end=' ')\n",
        "\n",
        "n_count(4)"
      ],
      "execution_count": null,
      "outputs": [
        {
          "output_type": "stream",
          "text": [
            "1 2 3 4 "
          ],
          "name": "stdout"
        }
      ]
    },
    {
      "cell_type": "code",
      "metadata": {
        "id": "_jVfwvjJ5H5p",
        "colab": {
          "base_uri": "https://localhost:8080/"
        },
        "outputId": "961d394b-5732-4d24-e5b9-60af1f044388"
      },
      "source": [
        "# A simple class for fruits and corresponding taste \n",
        "class Fruits:\n",
        "      def __init__(self, name, taste):\n",
        "          self.name = name\n",
        "          self.taste = taste\n",
        "\n",
        "Fruits1 = Fruits('Apple','sweet')\n",
        "Fruits2 = Fruits('Lemon','sour')\n",
        "Fruits3 = Fruits('Mango','sweet')\n",
        "\n",
        "print(Fruits3.name, \"and \", Fruits1.taste)"
      ],
      "execution_count": null,
      "outputs": [
        {
          "output_type": "stream",
          "text": [
            "Mango and  sweet\n"
          ],
          "name": "stdout"
        }
      ]
    },
    {
      "cell_type": "markdown",
      "metadata": {
        "id": "ofFlOiZuwwQb"
      },
      "source": [
        "**Assignment**\n",
        "\n",
        "1. Write a python function that find the simple interest rate?\n",
        "\n",
        " Hint: \n",
        "       a. Simple Interest(I) = (Principal(P) * Rate(R) * Period(T)) / 100\n",
        "       b.  Your function should take three parameters\n",
        "\n",
        "2. Write a python function that print out the odd numbers with 1 and 200.\n",
        "\n",
        "3. Write a python function that print out the even numbers with 1 and 200.\n",
        "\n",
        "    NB: Answer question one only or you answer question two and three only. If you are capable of answering all, do it."
      ]
    },
    {
      "cell_type": "code",
      "metadata": {
        "id": "O6CBwvk610_F"
      },
      "source": [
        "  def  simple_interest (P, R, T):\n",
        "       simpleinterest= P * R * T / 100 \n",
        "       return simpleinterest  \n",
        "       \n",
        "       \n",
        "\n"
      ],
      "execution_count": 23,
      "outputs": []
    },
    {
      "cell_type": "code",
      "metadata": {
        "colab": {
          "base_uri": "https://localhost:8080/"
        },
        "id": "b7O9zON4Z-AT",
        "outputId": "e9ddd9f8-39ce-43a3-e9fe-1eaa33ed5f75"
      },
      "source": [
        "       simple_interest(150, 0.5, 3)"
      ],
      "execution_count": 24,
      "outputs": [
        {
          "output_type": "execute_result",
          "data": {
            "text/plain": [
              "2.25"
            ]
          },
          "metadata": {
            "tags": []
          },
          "execution_count": 24
        }
      ]
    },
    {
      "cell_type": "markdown",
      "metadata": {
        "id": "m55d44F1eb4Y"
      },
      "source": [
        ""
      ]
    }
  ]
}