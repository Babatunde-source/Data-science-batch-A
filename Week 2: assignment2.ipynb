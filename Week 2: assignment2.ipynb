{
  "nbformat": 4,
  "nbformat_minor": 0,
  "metadata": {
    "colab": {
      "name": "Intro-to-NumPy-and-Pandas-1.ipynb",
      "provenance": [],
      "collapsed_sections": []
    },
    "kernelspec": {
      "display_name": "Python 3",
      "language": "python",
      "name": "python3"
    },
    "language_info": {
      "codemirror_mode": {
        "name": "ipython",
        "version": 3
      },
      "file_extension": ".py",
      "mimetype": "text/x-python",
      "name": "python",
      "nbconvert_exporter": "python",
      "pygments_lexer": "ipython3",
      "version": "3.6.8"
    }
  },
  "cells": [
    {
      "cell_type": "markdown",
      "metadata": {
        "id": "wZOHU8_HW7XB"
      },
      "source": [
        "##**NumPy**\n",
        "\n",
        "Documentation - https://numpy.org/doc/"
      ]
    },
    {
      "cell_type": "code",
      "metadata": {
        "id": "6ocr6fUDfe6P"
      },
      "source": [
        "# A simple function to evaluate simple interest formula\n",
        "def simple_interest(P, R, T):\n",
        "    simpleInterest = (P * R * T)/100 \n",
        "    return simpleInterest"
      ],
      "execution_count": null,
      "outputs": []
    },
    {
      "cell_type": "code",
      "metadata": {
        "colab": {
          "base_uri": "https://localhost:8080/"
        },
        "id": "5hcnwAXGgbHX",
        "outputId": "fed4f244-8780-4745-a282-569e2c4303d3"
      },
      "source": [
        "simple_interest(1800, 0.05, 2)"
      ],
      "execution_count": null,
      "outputs": [
        {
          "output_type": "execute_result",
          "data": {
            "text/plain": [
              "1.8"
            ]
          },
          "metadata": {
            "tags": []
          },
          "execution_count": 3
        }
      ]
    },
    {
      "cell_type": "code",
      "metadata": {
        "id": "FDD2QZr6hDf6"
      },
      "source": [
        "def odd_number(n = 200):\n",
        "   # formula for even number = n + 2\n",
        "   # formula for odd number = n + 1\n",
        "   for i in (1, n):\n",
        "       x1 = 2*i + 1 # Odd number\n",
        "       x2 = 2 * i   # even number\n",
        "       return x1"
      ],
      "execution_count": null,
      "outputs": []
    },
    {
      "cell_type": "markdown",
      "metadata": {
        "id": "gWHjeDJVXJh8"
      },
      "source": [
        "### Import Numpy and Pandas Libraries"
      ]
    },
    {
      "cell_type": "code",
      "metadata": {
        "collapsed": true,
        "id": "r0k1ncgL-JwR"
      },
      "source": [
        "import pandas as pd\n",
        "import numpy as np"
      ],
      "execution_count": 1,
      "outputs": []
    },
    {
      "cell_type": "code",
      "metadata": {
        "colab": {
          "base_uri": "https://localhost:8080/"
        },
        "id": "mwYeX9rSXqn7",
        "outputId": "a98b0a9b-b7f9-4e9e-c17d-77a3f7628939"
      },
      "source": [
        "print(\"NumPy version: \" + np.version.version)"
      ],
      "execution_count": 2,
      "outputs": [
        {
          "output_type": "stream",
          "text": [
            "NumPy version: 1.19.5\n"
          ],
          "name": "stdout"
        }
      ]
    },
    {
      "cell_type": "code",
      "metadata": {
        "colab": {
          "base_uri": "https://localhost:8080/"
        },
        "id": "Spb3GhRp61vY",
        "outputId": "f2d64ca9-0221-490e-e568-9da51beab6a6"
      },
      "source": [
        "print(\"Pandas version: \" + pd.__version__)\n",
        "\n",
        "#pip install pandas = 1.1.12"
      ],
      "execution_count": 4,
      "outputs": [
        {
          "output_type": "stream",
          "text": [
            "Pandas version: 1.1.5\n"
          ],
          "name": "stdout"
        }
      ]
    },
    {
      "cell_type": "markdown",
      "metadata": {
        "id": "VnT_x3RUH90r"
      },
      "source": [
        "### Creating Arrays"
      ]
    },
    {
      "cell_type": "code",
      "metadata": {
        "colab": {
          "base_uri": "https://localhost:8080/"
        },
        "id": "vZq_pfwx92ot",
        "outputId": "5da70b94-3be7-4688-cee5-40090d50a3ba"
      },
      "source": [
        "#create 1D numpy array from a list\n",
        "sample = np.array([1, 2, 3, 4, 5])\n",
        "\n",
        "print(sample)"
      ],
      "execution_count": 5,
      "outputs": [
        {
          "output_type": "stream",
          "text": [
            "[1 2 3 4 5]\n"
          ],
          "name": "stdout"
        }
      ]
    },
    {
      "cell_type": "code",
      "metadata": {
        "colab": {
          "base_uri": "https://localhost:8080/"
        },
        "id": "xja28lLvn3o0",
        "outputId": "dc86a50f-7357-446a-b87b-ad7ada57c4df"
      },
      "source": [
        "type(sample)"
      ],
      "execution_count": 6,
      "outputs": [
        {
          "output_type": "execute_result",
          "data": {
            "text/plain": [
              "numpy.ndarray"
            ]
          },
          "metadata": {
            "tags": []
          },
          "execution_count": 6
        }
      ]
    },
    {
      "cell_type": "code",
      "metadata": {
        "colab": {
          "base_uri": "https://localhost:8080/"
        },
        "id": "yT3QE6Xi-E7z",
        "outputId": "a501c689-dbb9-4a72-811d-6e173c56f5a0"
      },
      "source": [
        "#1D numpy array from a list variable\n",
        "list1 = [11, 22, 33, 44, 55]\n",
        "arrayl1 = np.array(list1)\n",
        "\n",
        "print(arrayl1)"
      ],
      "execution_count": 7,
      "outputs": [
        {
          "output_type": "stream",
          "text": [
            "[11 22 33 44 55]\n"
          ],
          "name": "stdout"
        }
      ]
    },
    {
      "cell_type": "code",
      "metadata": {
        "colab": {
          "base_uri": "https://localhost:8080/"
        },
        "id": "_NViwsfT-IQz",
        "outputId": "a6e8c5cb-61cb-4fd5-bb41-700b635a29cb"
      },
      "source": [
        "print (\"Array type = \" + str(type(arrayl1)))\n",
        "print (\"Data type = \" + str(arrayl1.dtype))"
      ],
      "execution_count": 8,
      "outputs": [
        {
          "output_type": "stream",
          "text": [
            "Array type = <class 'numpy.ndarray'>\n",
            "Data type = int64\n"
          ],
          "name": "stdout"
        }
      ]
    },
    {
      "cell_type": "code",
      "metadata": {
        "colab": {
          "base_uri": "https://localhost:8080/"
        },
        "id": "WmnHBC1NVpvy",
        "outputId": "be6cebd4-efd2-4a9e-ff19-c7e5d7791dda"
      },
      "source": [
        "#five element, one dimension\n",
        "print(arrayl1.shape)"
      ],
      "execution_count": 9,
      "outputs": [
        {
          "output_type": "stream",
          "text": [
            "(5,)\n"
          ],
          "name": "stdout"
        }
      ]
    },
    {
      "cell_type": "code",
      "metadata": {
        "colab": {
          "base_uri": "https://localhost:8080/"
        },
        "id": "R0nY1ugtI5X2",
        "outputId": "187418fc-51cc-44c9-d44a-f9fe278bc7ec"
      },
      "source": [
        "type(arrayl1)"
      ],
      "execution_count": 10,
      "outputs": [
        {
          "output_type": "execute_result",
          "data": {
            "text/plain": [
              "numpy.ndarray"
            ]
          },
          "metadata": {
            "tags": []
          },
          "execution_count": 10
        }
      ]
    },
    {
      "cell_type": "code",
      "metadata": {
        "colab": {
          "base_uri": "https://localhost:8080/"
        },
        "id": "uC_ykMB3Snsb",
        "outputId": "90e2b0a8-bd02-40f9-87b9-2261a83954de"
      },
      "source": [
        "# working with Range function.\n",
        "my_range = range(2, 12)\n",
        "list(my_range)"
      ],
      "execution_count": 11,
      "outputs": [
        {
          "output_type": "execute_result",
          "data": {
            "text/plain": [
              "[2, 3, 4, 5, 6, 7, 8, 9, 10, 11]"
            ]
          },
          "metadata": {
            "tags": []
          },
          "execution_count": 11
        }
      ]
    },
    {
      "cell_type": "markdown",
      "metadata": {
        "id": "YyjuudJ2Tb3i"
      },
      "source": [
        "Notice how the second number is exclusive. "
      ]
    },
    {
      "cell_type": "code",
      "metadata": {
        "collapsed": true,
        "id": "Kop_SyksTnSG"
      },
      "source": [
        "range_with_i = range(1, 10, 2)"
      ],
      "execution_count": 12,
      "outputs": []
    },
    {
      "cell_type": "code",
      "metadata": {
        "colab": {
          "base_uri": "https://localhost:8080/"
        },
        "id": "1ze-WmeSTlPy",
        "outputId": "fb619aa0-4e1d-4f55-a2c0-07902c9b4ecf"
      },
      "source": [
        "list(range_with_i)"
      ],
      "execution_count": null,
      "outputs": [
        {
          "output_type": "execute_result",
          "data": {
            "text/plain": [
              "[1, 3, 5, 7, 9]"
            ]
          },
          "metadata": {
            "tags": []
          },
          "execution_count": 26
        }
      ]
    },
    {
      "cell_type": "markdown",
      "metadata": {
        "id": "QhEdfYupn5ly"
      },
      "source": [
        "### Excercise 1\n",
        "\n",
        "1.  Create a Python List using the range function.\n",
        "1.  Convert the list into a NumPy array\n",
        "1.  Check the data type to make sure it is a NumPy array\n",
        "1.  Convert that array back into a list\n",
        "\n"
      ]
    },
    {
      "cell_type": "code",
      "metadata": {
        "colab": {
          "base_uri": "https://localhost:8080/"
        },
        "id": "w02zTcKyh6kT",
        "outputId": "91fe4e58-ef7f-4aa7-bc88-652700ea215f"
      },
      "source": [
        "my_range= range(4, 15)\n",
        "list(my_range)\n",
        "\n"
      ],
      "execution_count": 20,
      "outputs": [
        {
          "output_type": "execute_result",
          "data": {
            "text/plain": [
              "[4, 5, 6, 7, 8, 9, 10, 11, 12, 13, 14]"
            ]
          },
          "metadata": {
            "tags": []
          },
          "execution_count": 20
        }
      ]
    },
    {
      "cell_type": "code",
      "metadata": {
        "colab": {
          "base_uri": "https://localhost:8080/"
        },
        "id": "CYChrwy0jMPu",
        "outputId": "51dff0b1-5256-436a-b272-754a5899877b"
      },
      "source": [
        "list1= [4, 5, 6, 7, 8, 9, 10, 11, 12, 13, 14]\n",
        "arrayl1= np.array(list1)\n",
        "\n",
        "print(arrayl1)\n",
        "\n"
      ],
      "execution_count": 21,
      "outputs": [
        {
          "output_type": "stream",
          "text": [
            "[ 4  5  6  7  8  9 10 11 12 13 14]\n"
          ],
          "name": "stdout"
        }
      ]
    },
    {
      "cell_type": "code",
      "metadata": {
        "colab": {
          "base_uri": "https://localhost:8080/"
        },
        "id": "jKUgmU7PmsPs",
        "outputId": "779179cb-142b-450b-a661-0a18980722d4"
      },
      "source": [
        "type(arrayl1)\n",
        "\n",
        "\n"
      ],
      "execution_count": 22,
      "outputs": [
        {
          "output_type": "execute_result",
          "data": {
            "text/plain": [
              "numpy.ndarray"
            ]
          },
          "metadata": {
            "tags": []
          },
          "execution_count": 22
        }
      ]
    },
    {
      "cell_type": "code",
      "metadata": {
        "colab": {
          "base_uri": "https://localhost:8080/"
        },
        "id": "cbimOHR_puYP",
        "outputId": "d29318d1-9b72-4464-8dd9-20010640378c"
      },
      "source": [
        "arrayl1= [4, 5, 6, 7, 8, 9, 10, 11, 12, 13, 14]\n",
        "list1\n",
        "\n",
        "print (list1)"
      ],
      "execution_count": 24,
      "outputs": [
        {
          "output_type": "stream",
          "text": [
            "[4, 5, 6, 7, 8, 9, 10, 11, 12, 13, 14]\n"
          ],
          "name": "stdout"
        }
      ]
    },
    {
      "cell_type": "markdown",
      "metadata": {
        "id": "zUWdu5an0kcx"
      },
      "source": [
        "### Python Matrices (2D) to NumPy Array"
      ]
    },
    {
      "cell_type": "code",
      "metadata": {
        "colab": {
          "base_uri": "https://localhost:8080/"
        },
        "id": "gnE9WSrk-g3Q",
        "outputId": "ac0c64e3-5c15-4b07-c652-970adfd0d02c"
      },
      "source": [
        " mymatrix = [[4,2,9],[32,43,68],[73,8,9]]\n",
        " mymatrix"
      ],
      "execution_count": null,
      "outputs": [
        {
          "output_type": "execute_result",
          "data": {
            "text/plain": [
              "[[4, 2, 9], [32, 43, 68], [73, 8, 9]]"
            ]
          },
          "metadata": {
            "tags": []
          },
          "execution_count": 28
        }
      ]
    },
    {
      "cell_type": "code",
      "metadata": {
        "collapsed": true,
        "id": "UzOaeWtq-lvA"
      },
      "source": [
        "#Create a matrix (2D array)\n",
        "numpy_array = np.array(mymatrix)"
      ],
      "execution_count": null,
      "outputs": []
    },
    {
      "cell_type": "code",
      "metadata": {
        "colab": {
          "base_uri": "https://localhost:8080/"
        },
        "id": "5GTvBnWjqRO0",
        "outputId": "45d989d4-dafb-4435-b88b-b7e7d522ffa2"
      },
      "source": [
        "numpy_array"
      ],
      "execution_count": null,
      "outputs": [
        {
          "output_type": "execute_result",
          "data": {
            "text/plain": [
              "array([[ 4,  2,  9],\n",
              "       [32, 43, 68],\n",
              "       [73,  8,  9]])"
            ]
          },
          "metadata": {
            "tags": []
          },
          "execution_count": 30
        }
      ]
    },
    {
      "cell_type": "code",
      "metadata": {
        "colab": {
          "base_uri": "https://localhost:8080/"
        },
        "id": "TvGkTt8p11X3",
        "outputId": "690affb4-6bfd-4f9b-dc68-dcff5d8563bb"
      },
      "source": [
        "type(numpy_array)"
      ],
      "execution_count": null,
      "outputs": [
        {
          "output_type": "execute_result",
          "data": {
            "text/plain": [
              "numpy.ndarray"
            ]
          },
          "metadata": {
            "tags": []
          },
          "execution_count": 31
        }
      ]
    },
    {
      "cell_type": "code",
      "metadata": {
        "colab": {
          "base_uri": "https://localhost:8080/",
          "height": 143
        },
        "id": "ZO1BD2uiqF4f",
        "outputId": "e973765d-2302-4a34-91ee-832b67a07907"
      },
      "source": [
        "# Convert a NumPy Array into a Pandas DataFrame\n",
        "df_from_array = pd.DataFrame(numpy_array)\n",
        "df_from_array"
      ],
      "execution_count": null,
      "outputs": [
        {
          "output_type": "execute_result",
          "data": {
            "text/html": [
              "<div>\n",
              "<style scoped>\n",
              "    .dataframe tbody tr th:only-of-type {\n",
              "        vertical-align: middle;\n",
              "    }\n",
              "\n",
              "    .dataframe tbody tr th {\n",
              "        vertical-align: top;\n",
              "    }\n",
              "\n",
              "    .dataframe thead th {\n",
              "        text-align: right;\n",
              "    }\n",
              "</style>\n",
              "<table border=\"1\" class=\"dataframe\">\n",
              "  <thead>\n",
              "    <tr style=\"text-align: right;\">\n",
              "      <th></th>\n",
              "      <th>0</th>\n",
              "      <th>1</th>\n",
              "      <th>2</th>\n",
              "    </tr>\n",
              "  </thead>\n",
              "  <tbody>\n",
              "    <tr>\n",
              "      <th>0</th>\n",
              "      <td>4</td>\n",
              "      <td>2</td>\n",
              "      <td>9</td>\n",
              "    </tr>\n",
              "    <tr>\n",
              "      <th>1</th>\n",
              "      <td>32</td>\n",
              "      <td>43</td>\n",
              "      <td>68</td>\n",
              "    </tr>\n",
              "    <tr>\n",
              "      <th>2</th>\n",
              "      <td>73</td>\n",
              "      <td>8</td>\n",
              "      <td>9</td>\n",
              "    </tr>\n",
              "  </tbody>\n",
              "</table>\n",
              "</div>"
            ],
            "text/plain": [
              "    0   1   2\n",
              "0   4   2   9\n",
              "1  32  43  68\n",
              "2  73   8   9"
            ]
          },
          "metadata": {
            "tags": []
          },
          "execution_count": 32
        }
      ]
    },
    {
      "cell_type": "markdown",
      "metadata": {
        "id": "xPfwV8450-l5"
      },
      "source": [
        "### Assignment - 2 \n",
        "\n",
        "1. Create a matrix from a list.\n",
        "2. Convert the matrix into a NumPy array\n",
        "3. Check the data type to make sure it is a NumPy array\n",
        "4. Convert the NumPy array to a Pandas DataFrame"
      ]
    },
    {
      "cell_type": "code",
      "metadata": {
        "colab": {
          "base_uri": "https://localhost:8080/"
        },
        "id": "T-g8jcoothK3",
        "outputId": "c7b02a05-3493-431e-988e-39dcd64ca64b"
      },
      "source": [
        "mymatrix= [[5, 10, 15],[11, 30, 41],[22, 7, 19]]\n",
        "mymatrix"
      ],
      "execution_count": 27,
      "outputs": [
        {
          "output_type": "execute_result",
          "data": {
            "text/plain": [
              "[[5, 10, 15], [11, 30, 41], [22, 7, 19]]"
            ]
          },
          "metadata": {
            "tags": []
          },
          "execution_count": 27
        }
      ]
    },
    {
      "cell_type": "code",
      "metadata": {
        "id": "SBcaYDaEupaD"
      },
      "source": [
        "numpy_array= np.array(mymatrix)\n",
        "\n"
      ],
      "execution_count": 29,
      "outputs": []
    },
    {
      "cell_type": "code",
      "metadata": {
        "colab": {
          "base_uri": "https://localhost:8080/"
        },
        "id": "mO0PYZy3vTnF",
        "outputId": "f32878bc-19e2-4a23-a0b5-8a7bf3aa6b42"
      },
      "source": [
        "numpy_array\n",
        "\n"
      ],
      "execution_count": 31,
      "outputs": [
        {
          "output_type": "execute_result",
          "data": {
            "text/plain": [
              "array([[ 5, 10, 15],\n",
              "       [11, 30, 41],\n",
              "       [22,  7, 19]])"
            ]
          },
          "metadata": {
            "tags": []
          },
          "execution_count": 31
        }
      ]
    },
    {
      "cell_type": "code",
      "metadata": {
        "colab": {
          "base_uri": "https://localhost:8080/"
        },
        "id": "-kSxHJ72vlga",
        "outputId": "777ef712-b56f-4b0e-8c26-049ffadc267b"
      },
      "source": [
        "type(numpy_array)\n",
        "\n"
      ],
      "execution_count": 32,
      "outputs": [
        {
          "output_type": "execute_result",
          "data": {
            "text/plain": [
              "numpy.ndarray"
            ]
          },
          "metadata": {
            "tags": []
          },
          "execution_count": 32
        }
      ]
    },
    {
      "cell_type": "code",
      "metadata": {
        "colab": {
          "base_uri": "https://localhost:8080/",
          "height": 142
        },
        "id": "4-HXITPzv-a_",
        "outputId": "a604e515-799f-4fa6-9c3b-f00e074a0c73"
      },
      "source": [
        "#convert the NumPy array into a Pandas Dataframe\n",
        "df_from_array= pd.DataFrame(numpy_array)\n",
        "df_from_array\n",
        "\n"
      ],
      "execution_count": 33,
      "outputs": [
        {
          "output_type": "execute_result",
          "data": {
            "text/html": [
              "<div>\n",
              "<style scoped>\n",
              "    .dataframe tbody tr th:only-of-type {\n",
              "        vertical-align: middle;\n",
              "    }\n",
              "\n",
              "    .dataframe tbody tr th {\n",
              "        vertical-align: top;\n",
              "    }\n",
              "\n",
              "    .dataframe thead th {\n",
              "        text-align: right;\n",
              "    }\n",
              "</style>\n",
              "<table border=\"1\" class=\"dataframe\">\n",
              "  <thead>\n",
              "    <tr style=\"text-align: right;\">\n",
              "      <th></th>\n",
              "      <th>0</th>\n",
              "      <th>1</th>\n",
              "      <th>2</th>\n",
              "    </tr>\n",
              "  </thead>\n",
              "  <tbody>\n",
              "    <tr>\n",
              "      <th>0</th>\n",
              "      <td>5</td>\n",
              "      <td>10</td>\n",
              "      <td>15</td>\n",
              "    </tr>\n",
              "    <tr>\n",
              "      <th>1</th>\n",
              "      <td>11</td>\n",
              "      <td>30</td>\n",
              "      <td>41</td>\n",
              "    </tr>\n",
              "    <tr>\n",
              "      <th>2</th>\n",
              "      <td>22</td>\n",
              "      <td>7</td>\n",
              "      <td>19</td>\n",
              "    </tr>\n",
              "  </tbody>\n",
              "</table>\n",
              "</div>"
            ],
            "text/plain": [
              "    0   1   2\n",
              "0   5  10  15\n",
              "1  11  30  41\n",
              "2  22   7  19"
            ]
          },
          "metadata": {
            "tags": []
          },
          "execution_count": 33
        }
      ]
    },
    {
      "cell_type": "markdown",
      "metadata": {
        "id": "9CVQEImBv_AQ"
      },
      "source": [
        ""
      ]
    }
  ]
}